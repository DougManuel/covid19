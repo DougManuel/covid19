{
 "cells": [
  {
   "cell_type": "markdown",
   "metadata": {},
   "source": [
    "# Test Pipeline"
   ]
  },
  {
   "cell_type": "code",
   "execution_count": null,
   "metadata": {},
   "outputs": [],
   "source": [
    "import json\n",
    "import re\n",
    "nicename = re.compile('^[0-9a-zA-Z_-]+$')\n",
    "bucketname = re.compile('^[0-9a-z_-]+$')\n",
    "\n",
    "#################################\n",
    "### Configure your variables ####\n",
    "#################################\n",
    "SAMPLES = 5\n",
    "\n",
    "EXPERIMENT_NAME = \"pipeline-test\"\n",
    "assert nicename.match(EXPERIMENT_NAME)\n",
    "\n",
    "OUTPUT_BUCKET = 'ken-wifr-data'\n",
    "assert bucketname.match(OUTPUT_BUCKET)\n",
    "\n",
    "LOADDATA_IMAGE_NAME     = \"get-covid-data:v2\"\n",
    "LOADDATA_CONTAINER_NAME = \"load-data\"\n",
    "assert nicename.match(LOADDATA_CONTAINER_NAME)\n",
    "\n",
    "AVERAGE_IMAGE_NAME     = \"kenchu-kf-image-aggregate\"\n",
    "AVERAGE_CONTAINER_NAME = \"aggregate\"\n",
    "assert nicename.match(AVERAGE_CONTAINER_NAME)\n",
    "\n",
    "########################################\n",
    "### This gets fed into the map step ####\n",
    "########################################\n",
    "def seeds(how_many=SAMPLES):\n",
    "    \"\"\" Define the seeds for the algorithms \"\"\"\n",
    "    for i in range(how_many):\n",
    "        yield { \"seed\" : 3 * i }"
   ]
  },
  {
   "cell_type": "code",
   "execution_count": null,
   "metadata": {},
   "outputs": [],
   "source": [
    "import os\n",
    "os.environ['ZZZZZZZZZ'] = 'ZZZZZZZZZ'\n",
    "print(os.environ['ZZZZZZZZZ'])"
   ]
  },
  {
   "cell_type": "code",
   "execution_count": null,
   "metadata": {},
   "outputs": [],
   "source": [
    "###################################\n",
    "### DON'T EDIT:                 ###\n",
    "### Create the Experiment       ###\n",
    "###################################\n",
    "import kfp\n",
    "client = kfp.Client()\n",
    "exp = client.create_experiment(name=EXPERIMENT_NAME)"
   ]
  },
  {
   "cell_type": "code",
   "execution_count": null,
   "metadata": {},
   "outputs": [],
   "source": [
    "###################################\n",
    "### DON'T EDIT:                 ###\n",
    "### Register our storage output ###\n",
    "###################################\n",
    "import defaults\n",
    "\n",
    "# defaults.make_bucket(OUTPUT_BUCKET)"
   ]
  },
  {
   "cell_type": "code",
   "execution_count": null,
   "metadata": {},
   "outputs": [],
   "source": [
    "###################################\n",
    "### You can change below this   ###\n",
    "### Create the pipeline         ###\n",
    "###################################\n",
    "from kfp import dsl\n",
    "\n",
    "\n",
    "def load_data_op(params,output):\n",
    "    return dsl.ContainerOp(\n",
    "        name=LOADDATA_CONTAINER_NAME,\n",
    "        image=f'k8scc01covidacr.azurecr.io/{LOADDATA_IMAGE_NAME}',\n",
    "        arguments=[\n",
    "            '--params', params,\n",
    "            '--output', output,\n",
    "            '--data',   'ken-wifr-data'\n",
    "        ],\n",
    "        file_outputs={\n",
    "            'data1': '/output/raw-covid19-ECDC.csv',\n",
    "            'data2': '/output/raw-covid19-GoCInfobase-patched.csv',\n",
    "            'data3': '/output/input-wIFR.csv'\n",
    "        }\n",
    "    )\n",
    "    #.set_memory_request(\n",
    "    #    \"100M\"\n",
    "    #).set_memory_limit(\n",
    "    #    \"150M\"\n",
    "    #).set_cpu_request(\n",
    "    #    \"0.1\"\n",
    "    #).set_cpu_limit(\n",
    "    #    \"1\"\n",
    "    #)\n",
    "\n",
    "\n",
    "def average_op(l, output):\n",
    "    return dsl.ContainerOp(\n",
    "        name=AVERAGE_CONTAINER_NAME,\n",
    "        image=f'k8scc01covidacr.azurecr.io/{AVERAGE_IMAGE_NAME}',\n",
    "        arguments=[\n",
    "            '--output',\n",
    "            output,\n",
    "            '--numbers',\n",
    "            *l\n",
    "        ],\n",
    "        file_outputs={\n",
    "            'data': '/output/pi.json'\n",
    "        }\n",
    "    )\n",
    "\n",
    "\n",
    "@dsl.pipeline(\n",
    "    name=\"Fatality of Infected Ratio Analysis\",\n",
    "    description='Test sesitivity to the wIFR'\n",
    ")\n",
    "\n",
    "\n",
    "def pipeline_test(output):\n",
    "    \"\"\" just a test pipeline \"\"\"\n",
    "\n",
    "    results = [\n",
    "        load_data_op(json.dumps(param),f'{output}/load_data/{i}')\n",
    "        for (i, param) in enumerate(seeds())\n",
    "    ]\n",
    "\n",
    "    # average = average_op([r.output for r in results], f\"{output}/pi/\")\n",
    "\n",
    "    # Do you need this?\n",
    "    defaults.inject_env_vars()"
   ]
  },
  {
   "cell_type": "code",
   "execution_count": null,
   "metadata": {},
   "outputs": [],
   "source": [
    "###################################\n",
    "### DON'T EDIT:                 ###\n",
    "### Ship the pipeline to run    ###\n",
    "###################################\n",
    "from kfp import compiler\n",
    "compiler.Compiler().compile(\n",
    "    pipeline_test,\n",
    "    EXPERIMENT_NAME + '.zip'\n",
    ")"
   ]
  },
  {
   "cell_type": "markdown",
   "metadata": {},
   "source": [
    "# Ready to roll! Let's run this pipeline!"
   ]
  },
  {
   "cell_type": "code",
   "execution_count": null,
   "metadata": {},
   "outputs": [],
   "source": [
    "import time\n",
    "run = client.run_pipeline(\n",
    "    exp.id,\n",
    "    EXPERIMENT_NAME + '-' + time.strftime(\"%Y%m%d-%H%M%S\"),\n",
    "    EXPERIMENT_NAME + '.zip',\n",
    "    params={\n",
    "        'output': OUTPUT_BUCKET\n",
    "    }\n",
    ")"
   ]
  }
 ],
 "metadata": {
  "kernelspec": {
   "display_name": "Python 3",
   "language": "python",
   "name": "python3"
  },
  "language_info": {
   "codemirror_mode": {
    "name": "ipython",
    "version": 3
   },
   "file_extension": ".py",
   "mimetype": "text/x-python",
   "name": "python",
   "nbconvert_exporter": "python",
   "pygments_lexer": "ipython3",
   "version": "3.7.6"
  }
 },
 "nbformat": 4,
 "nbformat_minor": 4
}
